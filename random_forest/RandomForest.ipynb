{
 "cells": [
  {
   "cell_type": "code",
   "execution_count": 1,
   "metadata": {},
   "outputs": [
    {
     "data": {
      "application/javascript": [
       "    $(\"#homeButton\").remove()\n",
       "    $('body').append('<a href=\"#'+$(\"h1,h2,h3:eq(0)\").attr(\"id\")+'\" style=\"position: fixed; bottom: 10px; right: 10px;\" type=\"button\" class=\"btn btn-success btn-circle btn-lg\"><i class=\"glyphicon glyphicon-link\" id=\"homeButton\"></i></a>');\n",
       "    $(\"#MainMenu\").remove()\n",
       "    var menu = \n",
       "      '<div id=\"MainMenu\" style=\"position: fixed; top: 120px; right: 10px; z-index:6; max-height: 500px;\">'+\n",
       "        '<div class=\"list-group panel\" >'+\n",
       "          '<a href=\"#collapseMenu\" class=\"list-group-item list-group-item-success\" data-toggle=\"collapse\" data-parent=\"#MainMenu\">Indíce<i class=\"fa fa-caret-down\"></i></a>'+\n",
       "          '<div class=\"collapse\" id=\"collapseMenu\" style=\"overflow-y: overlay; max-height: 500px;\">'+\n",
       "          '</div>'+\n",
       "        '</div>'+\n",
       "      '</div>'\n",
       "   \n",
       "    var parent = $(menu)\n",
       "    var arrayIds = []\n",
       "    $(\"h1,h2,h3\").attr(\"id\",function(id,Value){\n",
       "        if(Value != \"\"){\n",
       "            var content = (Value.replace(new RegExp('-', 'g'), ' '));\n",
       "            content = \"&nbsp;\".repeat(parseInt($(this).prop(\"tagName\")[1])*2-1) + content;\n",
       "            $(parent).find(\"#collapseMenu\").append('<a href=\"#'+Value+'\" style=\"position:relative;\" class=\"list-group-item\" data-parent=\"#SubMenu1\">'+content+'</a>');\n",
       "        }\n",
       "    })\n",
       "$('body').append(parent)"
      ],
      "text/plain": [
       "<IPython.core.display.Javascript object>"
      ]
     },
     "metadata": {},
     "output_type": "display_data"
    }
   ],
   "source": [
    "%%javascript\n",
    "    $(\"#homeButton\").remove()\n",
    "    $('body').append('<a href=\"#'+$(\"h1,h2,h3:eq(0)\").attr(\"id\")+'\" style=\"position: fixed; bottom: 10px; right: 10px;\" type=\"button\" class=\"btn btn-success btn-circle btn-lg\"><i class=\"glyphicon glyphicon-link\" id=\"homeButton\"></i></a>');\n",
    "    $(\"#MainMenu\").remove()\n",
    "    var menu = \n",
    "      '<div id=\"MainMenu\" style=\"position: fixed; top: 120px; right: 10px; z-index:6; max-height: 500px;\">'+\n",
    "        '<div class=\"list-group panel\" >'+\n",
    "          '<a href=\"#collapseMenu\" class=\"list-group-item list-group-item-success\" data-toggle=\"collapse\" data-parent=\"#MainMenu\">Indíce<i class=\"fa fa-caret-down\"></i></a>'+\n",
    "          '<div class=\"collapse\" id=\"collapseMenu\" style=\"overflow-y: overlay; max-height: 500px;\">'+\n",
    "          '</div>'+\n",
    "        '</div>'+\n",
    "      '</div>'\n",
    "   \n",
    "    var parent = $(menu)\n",
    "    var arrayIds = []\n",
    "    $(\"h1,h2,h3\").attr(\"id\",function(id,Value){\n",
    "        if(Value != \"\"){\n",
    "            var content = (Value.replace(new RegExp('-', 'g'), ' '));\n",
    "            content = \"&nbsp;\".repeat(parseInt($(this).prop(\"tagName\")[1])*2-1) + content;\n",
    "            $(parent).find(\"#collapseMenu\").append('<a href=\"#'+Value+'\" style=\"position:relative;\" class=\"list-group-item\" data-parent=\"#SubMenu1\">'+content+'</a>');\n",
    "        }\n",
    "    })\n",
    "$('body').append(parent)"
   ]
  },
  {
   "cell_type": "code",
   "execution_count": 2,
   "metadata": {},
   "outputs": [
    {
     "data": {
      "text/html": [
       "<style>\n",
       "    h3{\n",
       "        color:#0094E4;\n",
       "    }\n",
       "    h2{\n",
       "         color:#F28773;\n",
       "    }\n",
       "    h1{\n",
       "         color:#0094E4;\n",
       "    }\n",
       "</style>"
      ],
      "text/plain": [
       "<IPython.core.display.HTML object>"
      ]
     },
     "metadata": {},
     "output_type": "display_data"
    }
   ],
   "source": [
    "%%html\n",
    "<style>\n",
    "    h3{\n",
    "        color:#0094E4;\n",
    "    }\n",
    "    h2{\n",
    "         color:#F28773;\n",
    "    }\n",
    "    h1{\n",
    "         color:#0094E4;\n",
    "    }\n",
    "</style>"
   ]
  },
  {
   "cell_type": "markdown",
   "metadata": {},
   "source": [
    "<img src=\"./images/logo.png\" style=\"width: 20%; margin-left: 70%;\">\n",
    "<img src=\"./images/python.png\">\n",
    "\n",
    "<h1>Hitchhiker's Guide to Data Science: Random Forests</h1>\n",
    "\n",
    "## Bibliotecas generales"
   ]
  },
  {
   "cell_type": "code",
   "execution_count": 3,
   "metadata": {
    "collapsed": true
   },
   "outputs": [],
   "source": [
    "from pyspark.sql.functions import col as c"
   ]
  },
  {
   "cell_type": "markdown",
   "metadata": {},
   "source": [
    "# Random Forest\n",
    "\n",
    "El Random Forest (o bosque aleatorio) está constituido por árboles de decisión.\n",
    "\n",
    "Entonces antes de empezar:\n",
    "\n",
    "# Árboles de decisión\n",
    "\n",
    "Un árbol de decisión es una forma gráfica y analítica\n",
    "de representar todos los eventos (sucesos) que\n",
    "pueden surgir a partir de una decisión asumida en\n",
    "cierto momento.\n",
    "\n",
    "Los árboles de decisión ayudan a tomar la decisión “más acertada”,\n",
    "desde un punto de vista probabilístico, ante un\n",
    "abanico de posibles decisiones. Permiten desplegar visualmente un problema y organizar los cálculos que deben realizarse.\n",
    "\n",
    "A partir de un set de datos se puede inferir un árbol de decisión ya sea regresor o clasificador. La diferencia escencial es que un árbol de regresión se usa para predecir respuestas cuantitativas y uno de clasificación respuestas cualitativas.\n",
    "\n",
    "| Clasificación                                                                                                                                                                                    | Regresión                                                                                                                     |\n",
    "|--------------------------------------------------------------------------------------------------------------------------------------------------------------------------------------------------|-------------------------------------------------------------------------------------------------------------------------------|\n",
    "| Predecir respuestas cualitativas                                                                                                                                                                 | Predecir respuestas cuantitativas                                                                                             |\n",
    "| Predecimos que cada observación pertenece a la clase que ocurre más comunmente en la región a la que pertenece.                                                                                  | La respuesta predicha está dada por la respuesta promedio de las observaciones de entrenamiento que pertenecen al mismo nodo. |\n",
    "| Por lo general nos interesa no  sólo la clase (target) que pertenece a un nodo terminal, sino también las proporciones de clases de las  observaciones de entreenamiento que  caen en esa región |                                                                                                                               |\n",
    "\n",
    "Para fines de fines de este mini curso, nos concentraremos en el modo clasificador.\n",
    "\n",
    "\n",
    "## Ventajas\n",
    "* Pueden usarse para clasificación y regresión\n",
    "* Son fáciles de interpretar\n",
    "* Pueden manejar datos categóricos\n",
    "* Por lo general no requieren escalar los datos\n",
    "* Pueden capturar no lineariades e interacciones entre features\n",
    "\n",
    "## Componentes\n",
    "\n",
    "<div class=\"alert alert-warning\"><strong>Nodo de decisión</strong><br>\n",
    "Indica que una decisón debe tomarse en el proceso, en general (no siempre) se representa con un cuadro\n",
    "</div>\n",
    "\n",
    "<div class=\"alert alert-warning\"><strong>Nodo de probabilidad</strong><br>\n",
    "Indica que en ese punto del proceso ocurre un evento aleatorio. Suele representarse con un círculo\n",
    "</div>\n",
    "\n",
    "<div class=\"alert alert-warning\"><strong>Rama</strong><br>\n",
    "Nos muestra los distintos caminos que se pueden emprender cuando se toma una decisión u ocurre un evento aleatorio, en general se representa con flechas\n",
    "</div>\n",
    "\n",
    "<img src=\"./images/arbol_d_decision.png\">\n",
    "\n",
    "## Pasos para construir un Árbol de Decisión\n",
    "* Definir el problema.\n",
    "* Dibujar el árbol de decisión.\n",
    "* Asignar probabilidades a los eventos aleatorios.\n",
    "* Estimar los resultados para cada combinación posible de alternativas.\n",
    "* Resolver el problema obteniendo como solución la ruta más óptima.\n",
    "\n",
    "### Ejemplo:\n",
    "<div class=\"alert alert-success alert-dismissable\" id=\"def2\">\n",
    "<a href=\"#\" class=\"close\" data-dismiss=\"alert\" aria-label=\"close\">&times;</a><strong>\n",
    "Suponiendo que nuestro problema es decidir si debemos conceder o no un préstamo...</strong>\n",
    "</div>\n",
    "\n",
    "<img src=\"./images/arbol_prestamo.png\">\n"
   ]
  },
  {
   "cell_type": "markdown",
   "metadata": {},
   "source": [
    "## Un ejemplo en sklearn y python\n",
    "\n",
    "**NOTA, NO ES EL OBJETIVO DE ESTE CURSO APRENDER SKLEARN, PERO ES VISULAMENTE ÚTIL PARA ENTENDER LO QUE QUEREMOS HACER**\n",
    "\n",
    "**Problema:** Queremos predecir la especie de una flor iris como setosa, versicolor o virginica con datos de la longitud de sus pétalos y sépalos. \n",
    "\n",
    "<img src=\"./images/petal_sepal.png\">\n",
    "\n",
    "<img src=\"./images/iris-flowers.png\">\n",
    "\n",
    "1. Cargamos el iris data set y el clasificador por árboles de decisión"
   ]
  },
  {
   "cell_type": "code",
   "execution_count": 8,
   "metadata": {
    "collapsed": true
   },
   "outputs": [],
   "source": [
    "from sklearn.datasets import load_iris\n",
    "from sklearn.tree import DecisionTreeClassifier\n",
    "import numpy as np\n",
    "import pandas as pd"
   ]
  },
  {
   "cell_type": "code",
   "execution_count": 9,
   "metadata": {
    "collapsed": true
   },
   "outputs": [],
   "source": [
    "iris= load_iris()"
   ]
  },
  {
   "cell_type": "code",
   "execution_count": 10,
   "metadata": {},
   "outputs": [
    {
     "data": {
      "text/plain": [
       "sklearn.datasets.base.Bunch"
      ]
     },
     "execution_count": 10,
     "metadata": {},
     "output_type": "execute_result"
    }
   ],
   "source": [
    "type(iris)"
   ]
  },
  {
   "cell_type": "code",
   "execution_count": 11,
   "metadata": {},
   "outputs": [],
   "source": [
    "data1 = pd.DataFrame(data= np.c_[iris['data'], iris['target']],\n",
    "                     columns= iris['feature_names'] + ['target'])\n",
    "#data1\n",
    "#iris.data"
   ]
  },
  {
   "cell_type": "markdown",
   "metadata": {},
   "source": [
    "### Llamamos el clasificador de árbol de decisión"
   ]
  },
  {
   "cell_type": "code",
   "execution_count": 12,
   "metadata": {
    "collapsed": true
   },
   "outputs": [],
   "source": [
    "tree_clf = DecisionTreeClassifier(max_depth=2)"
   ]
  },
  {
   "cell_type": "code",
   "execution_count": 13,
   "metadata": {},
   "outputs": [
    {
     "data": {
      "text/plain": [
       "DecisionTreeClassifier(class_weight=None, criterion='gini', max_depth=2,\n",
       "            max_features=None, max_leaf_nodes=None,\n",
       "            min_impurity_split=1e-07, min_samples_leaf=1,\n",
       "            min_samples_split=2, min_weight_fraction_leaf=0.0,\n",
       "            presort=False, random_state=None, splitter='best')"
      ]
     },
     "execution_count": 13,
     "metadata": {},
     "output_type": "execute_result"
    }
   ],
   "source": [
    "x = iris.data[: ,2:]\n",
    "y = iris.target\n",
    "\n",
    "tree_clf.fit(x,y)"
   ]
  },
  {
   "cell_type": "markdown",
   "metadata": {},
   "source": [
    "### Hacemos la imagen"
   ]
  },
  {
   "cell_type": "code",
   "execution_count": 14,
   "metadata": {
    "collapsed": true
   },
   "outputs": [],
   "source": [
    "from sklearn.tree import export_graphviz"
   ]
  },
  {
   "cell_type": "code",
   "execution_count": 16,
   "metadata": {},
   "outputs": [],
   "source": [
    "export_graphviz(\n",
    "    tree_clf,\n",
    "    out_file = \"./images/iris_tree.dot\",\n",
    "    feature_names = iris.feature_names[2:],\n",
    "    class_names = iris.target_names,\n",
    "    rounded = True,\n",
    "    filled = True\n",
    ")"
   ]
  },
  {
   "cell_type": "markdown",
   "metadata": {},
   "source": [
    "<img src=\"./images/iris_tree.png\">\n",
    "\n",
    "* **samples:** ¿Para cuántas instancias del conjunto de entrenamiento aplica esta regla?\n",
    "Por ejemplo 50 instancias tienen un ancho de pétalo menor o igual a 0.8.\n",
    "* **value:** Para cuántas instancias del conjunto de entrenamiento de cada clase aplica este nodo.\n",
    "* **gini:** (No confundir con Gini score) Es una medida de la impureza del nodo. Un nodo es puro (gini=0), si todas las instancias del entrenamiento para las que aplica son de la misma clase.\n",
    "\n",
    "Impureza de Gini para el iésimo nodo:\n",
    "\n",
    "$G_i = 1- \\sum_{k=1}^{n}p_{i,k}^2$\n",
    "\n",
    "donde:\n",
    "\n",
    "$p_{i,k}$ Es el cociente de los \"values\" de cada clase entre el \"samples\" del nodo i.\n",
    "\n",
    "Ejemplo:\n",
    "\n",
    "En el nodo de la izquierda del segundo nivel\n",
    "\n",
    "$G_i = 1- ((\\frac{0}{54})^2 + (\\frac{49}{54})^2 + (\\frac{5}{54})^2)$\n",
    "\n",
    "**Nota:** Gini no es la única medida de pureza.\n",
    "\n",
    "### Para hacer predicciones con el modelo:\n",
    "\n",
    "1.Nos situamos en el nodo base (profundidad = 0) hasta arriba. Ahí preguntamos si los pétalos tienen cierta característica (en este caso una ancho de pétalo menor o igual que 0.8 cm."
   ]
  },
  {
   "cell_type": "markdown",
   "metadata": {},
   "source": [
    "<img src=\"./images/iris_tree_setosa.png\">\n",
    "\n",
    "2.Si, en este caso resulta ser que el ancho del pétalo es menor a 0.8cm, voy a la izquierda y ya terminé: mi planta iris es de la clase setosa.\n",
    "\n",
    "3.Si mi planta no cumple con tener un pétalo de ancho menor a 0.8cm, de nuevo, tengo que moverme al primer nivel de profundidad.\n",
    "\n",
    "<img src=\"./images/iris_tree_versicolor_virginica.png\">\n",
    "El nodo al que llego no es un nodo hoja, sino de decisión, así que dada la condicional , reviso el ancho del pétalo, ¿es menor o igual a 1.75?\n",
    "\n",
    "4.Si el ancho del pétalo fue menor a 1.75 cm voy a la izquierda, clasifico mi planta como versicolor y terminé.\n",
    "<img src=\"./images/iris_tree_versicolor.png\">\n",
    "\n",
    "5.Si por el contrario, el ancho de mi pétalo fue mayor a 1.75cm\n",
    "<img src=\"./images/iris_tree_virginica.png\">"
   ]
  },
  {
   "cell_type": "markdown",
   "metadata": {},
   "source": [
    "### Para hacer la predicción *in silico*\n",
    "\n",
    "Vamos a suponer que encontramos una flor con pétalos de 5cm de largo y 1.5cm de ancho, bajo el modelo que estamos viendo debería de corresponder al nodo de profundidad 2 de la izquierda y darnos las siguientes probabilidades: 0 para iris setosa (0/54), .907 para iris versicolor (49/54) y alrededor de .93 para iris virginica (5/54).\n",
    "\n",
    "<div class=\"alert alert-danger\" role=\"alert\">\n",
    "  Esto quiere decir, ¿cuál es la probabilidad de que la flor que encontre sea de un tipo determinado dado mi árbol de decisión?\n",
    "</div>"
   ]
  },
  {
   "cell_type": "code",
   "execution_count": 20,
   "metadata": {},
   "outputs": [
    {
     "data": {
      "text/plain": [
       "array([[ 1.,  0.,  0.]])"
      ]
     },
     "execution_count": 20,
     "metadata": {},
     "output_type": "execute_result"
    }
   ],
   "source": [
    "tree_clf.predict_proba([[5,.15]])"
   ]
  },
  {
   "cell_type": "markdown",
   "metadata": {},
   "source": [
    "**¿Por qué sale distinto a nuestra predicción?**\n",
    "\n",
    "<div class=\"alert alert-danger\" role=\"alert\">\n",
    "  Los árboles de decisión tienen muchas ventajas: son fáciles de usar, fáciles de entender e interpretar, versátiles y poderosos, pero <strong>son muy sensibles al conjunto de entrenamiento</strong> y, al menos scikit learn es estocástico puedes obtenr modelos muy diferentes con el mismo set de datos. A menos que fijes el parámetros random_state.\n",
    "</div>\n",
    "\n",
    "Dado el que sea tan lábil, podemos aprovechar esta propiedad para hacer muchos árboles de decisión y buscar el mejor posible, ese es el principio detrás de RandomForest."
   ]
  },
  {
   "cell_type": "markdown",
   "metadata": {},
   "source": [
    "### Chequemos de nuevo sus ventajas y desventajas:\n",
    "\n",
    "#### Ventajas:\n",
    "* Fáciles de explicar\n",
    "* Se ha llegado a decir que son el método que más se parece a las decisiones tomadas por humanos.\n",
    "* Pueden desplegarse gráficamente y explicarse a personas no expertas.\n",
    "* Pueden manejar sin problemas variables cualitativas sin tener que crear variables *dummy*\n",
    "\n",
    "#### Desventajas:\n",
    "* Un árbol por si solo, en genral no tiene el mismo poder predictivo que otros métodos de regresión y clasificación.\n",
    "* Pueden ser muy poco robustos (un pequeño cambio en los datos puede significar un gran cambio en el árbol final)."
   ]
  },
  {
   "cell_type": "code",
   "execution_count": null,
   "metadata": {
    "collapsed": true
   },
   "outputs": [],
   "source": []
  },
  {
   "cell_type": "code",
   "execution_count": null,
   "metadata": {
    "collapsed": true
   },
   "outputs": [],
   "source": []
  },
  {
   "cell_type": "markdown",
   "metadata": {},
   "source": [
    "## Primero hay que correr Spark context y Spark session"
   ]
  },
  {
   "cell_type": "code",
   "execution_count": 17,
   "metadata": {
    "collapsed": true
   },
   "outputs": [],
   "source": [
    "from pyspark.sql import SparkSession\n",
    "import pyspark.sql.functions as f\n",
    "spark =SparkSession.builder.appName('lreg').getOrCreate()"
   ]
  },
  {
   "cell_type": "markdown",
   "metadata": {
    "collapsed": true
   },
   "source": [
    "### Objetivo\n",
    "Predecir customer churn"
   ]
  },
  {
   "cell_type": "markdown",
   "metadata": {},
   "source": [
    "## Leer datos"
   ]
  },
  {
   "cell_type": "code",
   "execution_count": 3,
   "metadata": {
    "collapsed": true
   },
   "outputs": [],
   "source": [
    "data = spark.read.csv('customer_churn.csv',inferSchema=True,\n",
    "                     header=True)"
   ]
  },
  {
   "cell_type": "code",
   "execution_count": 4,
   "metadata": {},
   "outputs": [
    {
     "name": "stdout",
     "output_type": "stream",
     "text": [
      "root\n",
      " |-- Names: string (nullable = true)\n",
      " |-- Age: double (nullable = true)\n",
      " |-- Total_Purchase: double (nullable = true)\n",
      " |-- Account_Manager: integer (nullable = true)\n",
      " |-- Years: double (nullable = true)\n",
      " |-- Num_Sites: double (nullable = true)\n",
      " |-- Onboard_date: timestamp (nullable = true)\n",
      " |-- Location: string (nullable = true)\n",
      " |-- Company: string (nullable = true)\n",
      " |-- Churn: integer (nullable = true)\n",
      "\n"
     ]
    }
   ],
   "source": [
    "data.printSchema()"
   ]
  },
  {
   "cell_type": "markdown",
   "metadata": {},
   "source": [
    "## Describir datos"
   ]
  },
  {
   "cell_type": "code",
   "execution_count": 5,
   "metadata": {},
   "outputs": [
    {
     "data": {
      "text/html": [
       "<div>\n",
       "<table border=\"1\" class=\"dataframe\">\n",
       "  <thead>\n",
       "    <tr style=\"text-align: right;\">\n",
       "      <th></th>\n",
       "      <th>summary</th>\n",
       "      <th>Names</th>\n",
       "      <th>Age</th>\n",
       "      <th>Total_Purchase</th>\n",
       "      <th>Account_Manager</th>\n",
       "      <th>Years</th>\n",
       "      <th>Num_Sites</th>\n",
       "      <th>Location</th>\n",
       "      <th>Company</th>\n",
       "      <th>Churn</th>\n",
       "    </tr>\n",
       "  </thead>\n",
       "  <tbody>\n",
       "    <tr>\n",
       "      <th>0</th>\n",
       "      <td>count</td>\n",
       "      <td>900</td>\n",
       "      <td>900</td>\n",
       "      <td>900</td>\n",
       "      <td>900</td>\n",
       "      <td>900</td>\n",
       "      <td>900</td>\n",
       "      <td>900</td>\n",
       "      <td>900</td>\n",
       "      <td>900</td>\n",
       "    </tr>\n",
       "    <tr>\n",
       "      <th>1</th>\n",
       "      <td>mean</td>\n",
       "      <td>None</td>\n",
       "      <td>41.81666666666667</td>\n",
       "      <td>10062.82403333334</td>\n",
       "      <td>0.4811111111111111</td>\n",
       "      <td>5.27315555555555</td>\n",
       "      <td>8.587777777777777</td>\n",
       "      <td>None</td>\n",
       "      <td>None</td>\n",
       "      <td>0.16666666666666666</td>\n",
       "    </tr>\n",
       "    <tr>\n",
       "      <th>2</th>\n",
       "      <td>stddev</td>\n",
       "      <td>None</td>\n",
       "      <td>6.127560416916251</td>\n",
       "      <td>2408.644531858096</td>\n",
       "      <td>0.4999208935073339</td>\n",
       "      <td>1.274449013194616</td>\n",
       "      <td>1.7648355920350969</td>\n",
       "      <td>None</td>\n",
       "      <td>None</td>\n",
       "      <td>0.3728852122772358</td>\n",
       "    </tr>\n",
       "    <tr>\n",
       "      <th>3</th>\n",
       "      <td>min</td>\n",
       "      <td>Aaron King</td>\n",
       "      <td>22.0</td>\n",
       "      <td>100.0</td>\n",
       "      <td>0</td>\n",
       "      <td>1.0</td>\n",
       "      <td>3.0</td>\n",
       "      <td>00103 Jeffrey Crest Apt. 205 Padillaville, IA ...</td>\n",
       "      <td>Abbott-Thompson</td>\n",
       "      <td>0</td>\n",
       "    </tr>\n",
       "    <tr>\n",
       "      <th>4</th>\n",
       "      <td>max</td>\n",
       "      <td>Zachary Walsh</td>\n",
       "      <td>65.0</td>\n",
       "      <td>18026.01</td>\n",
       "      <td>1</td>\n",
       "      <td>9.15</td>\n",
       "      <td>14.0</td>\n",
       "      <td>Unit 9800 Box 2878 DPO AA 75157</td>\n",
       "      <td>Zuniga, Clark and Shaffer</td>\n",
       "      <td>1</td>\n",
       "    </tr>\n",
       "  </tbody>\n",
       "</table>\n",
       "</div>"
      ],
      "text/plain": [
       "  summary          Names                Age     Total_Purchase  \\\n",
       "0   count            900                900                900   \n",
       "1    mean           None  41.81666666666667  10062.82403333334   \n",
       "2  stddev           None  6.127560416916251  2408.644531858096   \n",
       "3     min     Aaron King               22.0              100.0   \n",
       "4     max  Zachary Walsh               65.0           18026.01   \n",
       "\n",
       "      Account_Manager              Years           Num_Sites  \\\n",
       "0                 900                900                 900   \n",
       "1  0.4811111111111111   5.27315555555555   8.587777777777777   \n",
       "2  0.4999208935073339  1.274449013194616  1.7648355920350969   \n",
       "3                   0                1.0                 3.0   \n",
       "4                   1               9.15                14.0   \n",
       "\n",
       "                                            Location  \\\n",
       "0                                                900   \n",
       "1                                               None   \n",
       "2                                               None   \n",
       "3  00103 Jeffrey Crest Apt. 205 Padillaville, IA ...   \n",
       "4                    Unit 9800 Box 2878 DPO AA 75157   \n",
       "\n",
       "                     Company                Churn  \n",
       "0                        900                  900  \n",
       "1                       None  0.16666666666666666  \n",
       "2                       None   0.3728852122772358  \n",
       "3            Abbott-Thompson                    0  \n",
       "4  Zuniga, Clark and Shaffer                    1  "
      ]
     },
     "execution_count": 5,
     "metadata": {},
     "output_type": "execute_result"
    }
   ],
   "source": [
    "data.describe().toPandas()"
   ]
  },
  {
   "cell_type": "markdown",
   "metadata": {},
   "source": [
    "## Seleccionar datos"
   ]
  },
  {
   "cell_type": "code",
   "execution_count": 6,
   "metadata": {
    "collapsed": true
   },
   "outputs": [],
   "source": [
    "from pyspark.ml.feature import VectorAssembler"
   ]
  },
  {
   "cell_type": "code",
   "execution_count": 7,
   "metadata": {
    "collapsed": true
   },
   "outputs": [],
   "source": [
    "#assembler = VectorAssembler(inputCols = ['Age','Total_Purchase','Years','Num_Sites','Account_Manager'],outputCol='features')"
   ]
  },
  {
   "cell_type": "code",
   "execution_count": 8,
   "metadata": {
    "collapsed": true
   },
   "outputs": [],
   "source": [
    "assembler = VectorAssembler(inputCols = ['Age','Total_Purchase','Years','Num_Sites'],outputCol='features')"
   ]
  },
  {
   "cell_type": "code",
   "execution_count": 9,
   "metadata": {
    "collapsed": true
   },
   "outputs": [],
   "source": [
    "assembled = assembler.transform(data)\n",
    "data_VA = assembled.select('features','churn')"
   ]
  },
  {
   "cell_type": "markdown",
   "metadata": {},
   "source": [
    "## Obtener conjuntos de datos de entrenamiento y de prueba"
   ]
  },
  {
   "cell_type": "code",
   "execution_count": 3,
   "metadata": {},
   "outputs": [
    {
     "ename": "NameError",
     "evalue": "name 'data_VA' is not defined",
     "output_type": "error",
     "traceback": [
      "\u001b[0;31m---------------------------------------------------------------------------\u001b[0m",
      "\u001b[0;31mNameError\u001b[0m                                 Traceback (most recent call last)",
      "\u001b[0;32m<ipython-input-3-64efd070b797>\u001b[0m in \u001b[0;36m<module>\u001b[0;34m()\u001b[0m\n\u001b[0;32m----> 1\u001b[0;31m \u001b[0mtrain_data\u001b[0m\u001b[0;34m,\u001b[0m\u001b[0mtest_data\u001b[0m \u001b[0;34m=\u001b[0m \u001b[0mdata_VA\u001b[0m\u001b[0;34m.\u001b[0m\u001b[0mrandomSplit\u001b[0m\u001b[0;34m(\u001b[0m\u001b[0;34m[\u001b[0m\u001b[0;36m0.7\u001b[0m\u001b[0;34m,\u001b[0m\u001b[0;36m0.3\u001b[0m\u001b[0;34m]\u001b[0m\u001b[0;34m)\u001b[0m\u001b[0;34m\u001b[0m\u001b[0m\n\u001b[0m",
      "\u001b[0;31mNameError\u001b[0m: name 'data_VA' is not defined"
     ]
    }
   ],
   "source": [
    "train_data,test_data = data_VA.randomSplit([0.7,0.3])"
   ]
  },
  {
   "cell_type": "markdown",
   "metadata": {},
   "source": [
    "## Random forest"
   ]
  },
  {
   "cell_type": "code",
   "execution_count": 17,
   "metadata": {
    "collapsed": true
   },
   "outputs": [],
   "source": [
    "from pyspark.ml import Pipeline\n",
    "from pyspark.ml.regression import RandomForestRegressor\n",
    "from pyspark.ml.feature import VectorIndexer\n",
    "from pyspark.ml.evaluation import RegressionEvaluator\n"
   ]
  },
  {
   "cell_type": "code",
   "execution_count": 18,
   "metadata": {
    "collapsed": true
   },
   "outputs": [],
   "source": [
    "rf = RandomForestRegressor(labelCol='churn')"
   ]
  },
  {
   "cell_type": "code",
   "execution_count": 19,
   "metadata": {
    "collapsed": true
   },
   "outputs": [],
   "source": [
    "fit_rfModel = rf.fit(train_data)"
   ]
  },
  {
   "cell_type": "code",
   "execution_count": 20,
   "metadata": {},
   "outputs": [
    {
     "ename": "AttributeError",
     "evalue": "'RandomForestClassificationModel' object has no attribute 'summary'",
     "output_type": "error",
     "traceback": [
      "\u001b[0;31m---------------------------------------------------------------------------\u001b[0m",
      "\u001b[0;31mAttributeError\u001b[0m                            Traceback (most recent call last)",
      "\u001b[0;32m<ipython-input-20-813bd102ac65>\u001b[0m in \u001b[0;36m<module>\u001b[0;34m()\u001b[0m\n\u001b[0;32m----> 1\u001b[0;31m \u001b[0mtraining_sum\u001b[0m \u001b[0;34m=\u001b[0m \u001b[0mfit_rfModel\u001b[0m\u001b[0;34m.\u001b[0m\u001b[0msummary\u001b[0m\u001b[0;34m\u001b[0m\u001b[0m\n\u001b[0m",
      "\u001b[0;31mAttributeError\u001b[0m: 'RandomForestClassificationModel' object has no attribute 'summary'"
     ]
    }
   ],
   "source": [
    "training_sum = fit_rfModel."
   ]
  },
  {
   "cell_type": "code",
   "execution_count": null,
   "metadata": {
    "collapsed": true
   },
   "outputs": [],
   "source": []
  },
  {
   "cell_type": "markdown",
   "metadata": {},
   "source": [
    "Seems fine, let's do evaluation metrics :D"
   ]
  },
  {
   "cell_type": "code",
   "execution_count": 15,
   "metadata": {
    "collapsed": true
   },
   "outputs": [],
   "source": [
    "from pyspark.ml.evaluation import BinaryClassificationEvaluator"
   ]
  },
  {
   "cell_type": "code",
   "execution_count": 16,
   "metadata": {},
   "outputs": [
    {
     "ename": "AttributeError",
     "evalue": "'RandomForestRegressionModel' object has no attribute 'evaluate'",
     "output_type": "error",
     "traceback": [
      "\u001b[0;31m---------------------------------------------------------------------------\u001b[0m",
      "\u001b[0;31mAttributeError\u001b[0m                            Traceback (most recent call last)",
      "\u001b[0;32m<ipython-input-16-cccd4e0b1823>\u001b[0m in \u001b[0;36m<module>\u001b[0;34m()\u001b[0m\n\u001b[0;32m----> 1\u001b[0;31m \u001b[0mprediction_and_labels\u001b[0m \u001b[0;34m=\u001b[0m \u001b[0mfit_rfModel\u001b[0m\u001b[0;34m.\u001b[0m\u001b[0mevaluate\u001b[0m\u001b[0;34m(\u001b[0m\u001b[0mtest_data\u001b[0m\u001b[0;34m)\u001b[0m\u001b[0;34m\u001b[0m\u001b[0m\n\u001b[0m",
      "\u001b[0;31mAttributeError\u001b[0m: 'RandomForestRegressionModel' object has no attribute 'evaluate'"
     ]
    }
   ],
   "source": [
    "prediction_and_labels = fit_rfModel.evaluate(test_data)"
   ]
  },
  {
   "cell_type": "code",
   "execution_count": 80,
   "metadata": {},
   "outputs": [
    {
     "data": {
      "text/html": [
       "<div>\n",
       "<table border=\"1\" class=\"dataframe\">\n",
       "  <thead>\n",
       "    <tr style=\"text-align: right;\">\n",
       "      <th></th>\n",
       "      <th>features</th>\n",
       "      <th>churn</th>\n",
       "      <th>rawPrediction</th>\n",
       "      <th>probability</th>\n",
       "      <th>prediction</th>\n",
       "    </tr>\n",
       "  </thead>\n",
       "  <tbody>\n",
       "    <tr>\n",
       "      <th>0</th>\n",
       "      <td>[26.0, 8787.39, 5.42, 11.0]</td>\n",
       "      <td>1</td>\n",
       "      <td>[0.821835222748, -0.821835222748]</td>\n",
       "      <td>[0.694625768032, 0.305374231968]</td>\n",
       "      <td>0.0</td>\n",
       "    </tr>\n",
       "    <tr>\n",
       "      <th>1</th>\n",
       "      <td>[27.0, 8628.8, 5.3, 7.0]</td>\n",
       "      <td>0</td>\n",
       "      <td>[5.67155854679, -5.67155854679]</td>\n",
       "      <td>[0.996569314319, 0.00343068568105]</td>\n",
       "      <td>0.0</td>\n",
       "    </tr>\n",
       "    <tr>\n",
       "      <th>2</th>\n",
       "      <td>[28.0, 11128.95, 5.12, 8.0]</td>\n",
       "      <td>0</td>\n",
       "      <td>[4.31437686644, -4.31437686644]</td>\n",
       "      <td>[0.986801645201, 0.0131983547994]</td>\n",
       "      <td>0.0</td>\n",
       "    </tr>\n",
       "    <tr>\n",
       "      <th>3</th>\n",
       "      <td>[29.0, 10203.18, 5.82, 8.0]</td>\n",
       "      <td>0</td>\n",
       "      <td>[3.95266333937, -3.95266333937]</td>\n",
       "      <td>[0.981158337445, 0.0188416625554]</td>\n",
       "      <td>0.0</td>\n",
       "    </tr>\n",
       "    <tr>\n",
       "      <th>4</th>\n",
       "      <td>[29.0, 12711.15, 5.74, 7.0]</td>\n",
       "      <td>0</td>\n",
       "      <td>[5.00468555006, -5.00468555006]</td>\n",
       "      <td>[0.993338226987, 0.00666177301277]</td>\n",
       "      <td>0.0</td>\n",
       "    </tr>\n",
       "    <tr>\n",
       "      <th>5</th>\n",
       "      <td>[29.0, 13255.05, 4.89, 8.0]</td>\n",
       "      <td>0</td>\n",
       "      <td>[4.22000602305, -4.22000602305]</td>\n",
       "      <td>[0.985514361987, 0.0144856380134]</td>\n",
       "      <td>0.0</td>\n",
       "    </tr>\n",
       "    <tr>\n",
       "      <th>6</th>\n",
       "      <td>[30.0, 6744.87, 5.14, 9.0]</td>\n",
       "      <td>0</td>\n",
       "      <td>[3.33821829835, -3.33821829835]</td>\n",
       "      <td>[0.965716903067, 0.0342830969327]</td>\n",
       "      <td>0.0</td>\n",
       "    </tr>\n",
       "    <tr>\n",
       "      <th>7</th>\n",
       "      <td>[31.0, 9574.89, 7.34, 8.0]</td>\n",
       "      <td>0</td>\n",
       "      <td>[3.06727876925, -3.06727876925]</td>\n",
       "      <td>[0.955522665802, 0.0444773341981]</td>\n",
       "      <td>0.0</td>\n",
       "    </tr>\n",
       "    <tr>\n",
       "      <th>8</th>\n",
       "      <td>[32.0, 8617.98, 6.2, 10.0]</td>\n",
       "      <td>1</td>\n",
       "      <td>[1.30086422037, -1.30086422037]</td>\n",
       "      <td>[0.785980393986, 0.214019606014]</td>\n",
       "      <td>0.0</td>\n",
       "    </tr>\n",
       "    <tr>\n",
       "      <th>9</th>\n",
       "      <td>[32.0, 11715.72, 4.73, 9.0]</td>\n",
       "      <td>0</td>\n",
       "      <td>[3.06552303371, -3.06552303371]</td>\n",
       "      <td>[0.955447988914, 0.044552011086]</td>\n",
       "      <td>0.0</td>\n",
       "    </tr>\n",
       "  </tbody>\n",
       "</table>\n",
       "</div>"
      ],
      "text/plain": [
       "                      features  churn                      rawPrediction  \\\n",
       "0  [26.0, 8787.39, 5.42, 11.0]      1  [0.821835222748, -0.821835222748]   \n",
       "1     [27.0, 8628.8, 5.3, 7.0]      0    [5.67155854679, -5.67155854679]   \n",
       "2  [28.0, 11128.95, 5.12, 8.0]      0    [4.31437686644, -4.31437686644]   \n",
       "3  [29.0, 10203.18, 5.82, 8.0]      0    [3.95266333937, -3.95266333937]   \n",
       "4  [29.0, 12711.15, 5.74, 7.0]      0    [5.00468555006, -5.00468555006]   \n",
       "5  [29.0, 13255.05, 4.89, 8.0]      0    [4.22000602305, -4.22000602305]   \n",
       "6   [30.0, 6744.87, 5.14, 9.0]      0    [3.33821829835, -3.33821829835]   \n",
       "7   [31.0, 9574.89, 7.34, 8.0]      0    [3.06727876925, -3.06727876925]   \n",
       "8   [32.0, 8617.98, 6.2, 10.0]      1    [1.30086422037, -1.30086422037]   \n",
       "9  [32.0, 11715.72, 4.73, 9.0]      0    [3.06552303371, -3.06552303371]   \n",
       "\n",
       "                          probability  prediction  \n",
       "0    [0.694625768032, 0.305374231968]         0.0  \n",
       "1  [0.996569314319, 0.00343068568105]         0.0  \n",
       "2   [0.986801645201, 0.0131983547994]         0.0  \n",
       "3   [0.981158337445, 0.0188416625554]         0.0  \n",
       "4  [0.993338226987, 0.00666177301277]         0.0  \n",
       "5   [0.985514361987, 0.0144856380134]         0.0  \n",
       "6   [0.965716903067, 0.0342830969327]         0.0  \n",
       "7   [0.955522665802, 0.0444773341981]         0.0  \n",
       "8    [0.785980393986, 0.214019606014]         0.0  \n",
       "9    [0.955447988914, 0.044552011086]         0.0  "
      ]
     },
     "execution_count": 80,
     "metadata": {},
     "output_type": "execute_result"
    }
   ],
   "source": [
    "prediction_and_labels.predictions.limit(10).toPandas()"
   ]
  },
  {
   "cell_type": "code",
   "execution_count": 81,
   "metadata": {
    "collapsed": true
   },
   "outputs": [],
   "source": [
    "churn_eval = BinaryClassificationEvaluator(rawPredictionCol='prediction', labelCol= 'churn')"
   ]
  },
  {
   "cell_type": "markdown",
   "metadata": {},
   "source": [
    "### area under curve"
   ]
  },
  {
   "cell_type": "code",
   "execution_count": 82,
   "metadata": {
    "collapsed": true
   },
   "outputs": [],
   "source": [
    "auc = churn_eval.evaluate(prediction_and_labels.predictions)"
   ]
  },
  {
   "cell_type": "code",
   "execution_count": 83,
   "metadata": {},
   "outputs": [
    {
     "data": {
      "text/plain": [
       "0.7050194414987628"
      ]
     },
     "execution_count": 83,
     "metadata": {},
     "output_type": "execute_result"
    }
   ],
   "source": [
    "auc"
   ]
  },
  {
   "cell_type": "markdown",
   "metadata": {},
   "source": [
    "### Predict on new data"
   ]
  },
  {
   "cell_type": "code",
   "execution_count": 84,
   "metadata": {
    "collapsed": true
   },
   "outputs": [],
   "source": [
    "fit_lrModel = lr.fit(data_VA)"
   ]
  },
  {
   "cell_type": "code",
   "execution_count": 85,
   "metadata": {
    "collapsed": true
   },
   "outputs": [],
   "source": [
    "new_customers = spark.read.csv('new_customers.csv', inferSchema=True,header=True)"
   ]
  },
  {
   "cell_type": "code",
   "execution_count": 86,
   "metadata": {},
   "outputs": [
    {
     "name": "stdout",
     "output_type": "stream",
     "text": [
      "root\n",
      " |-- Names: string (nullable = true)\n",
      " |-- Age: double (nullable = true)\n",
      " |-- Total_Purchase: double (nullable = true)\n",
      " |-- Account_Manager: integer (nullable = true)\n",
      " |-- Years: double (nullable = true)\n",
      " |-- Num_Sites: double (nullable = true)\n",
      " |-- Onboard_date: timestamp (nullable = true)\n",
      " |-- Location: string (nullable = true)\n",
      " |-- Company: string (nullable = true)\n",
      "\n"
     ]
    }
   ],
   "source": [
    "new_customers.printSchema()"
   ]
  },
  {
   "cell_type": "code",
   "execution_count": 87,
   "metadata": {
    "collapsed": true
   },
   "outputs": [],
   "source": [
    "test_new_customers = assembler.transform(new_customers)"
   ]
  },
  {
   "cell_type": "code",
   "execution_count": 88,
   "metadata": {},
   "outputs": [
    {
     "name": "stdout",
     "output_type": "stream",
     "text": [
      "root\n",
      " |-- Names: string (nullable = true)\n",
      " |-- Age: double (nullable = true)\n",
      " |-- Total_Purchase: double (nullable = true)\n",
      " |-- Account_Manager: integer (nullable = true)\n",
      " |-- Years: double (nullable = true)\n",
      " |-- Num_Sites: double (nullable = true)\n",
      " |-- Onboard_date: timestamp (nullable = true)\n",
      " |-- Location: string (nullable = true)\n",
      " |-- Company: string (nullable = true)\n",
      " |-- features: vector (nullable = true)\n",
      "\n"
     ]
    }
   ],
   "source": [
    "test_new_customers.printSchema()"
   ]
  },
  {
   "cell_type": "code",
   "execution_count": 90,
   "metadata": {
    "collapsed": true
   },
   "outputs": [],
   "source": [
    "final_results = fit_lrModel.transform(test_new_customers)"
   ]
  },
  {
   "cell_type": "code",
   "execution_count": 91,
   "metadata": {},
   "outputs": [
    {
     "data": {
      "text/html": [
       "<div>\n",
       "<table border=\"1\" class=\"dataframe\">\n",
       "  <thead>\n",
       "    <tr style=\"text-align: right;\">\n",
       "      <th></th>\n",
       "      <th>Names</th>\n",
       "      <th>Age</th>\n",
       "      <th>Total_Purchase</th>\n",
       "      <th>Account_Manager</th>\n",
       "      <th>Years</th>\n",
       "      <th>Num_Sites</th>\n",
       "      <th>Onboard_date</th>\n",
       "      <th>Location</th>\n",
       "      <th>Company</th>\n",
       "      <th>features</th>\n",
       "      <th>rawPrediction</th>\n",
       "      <th>probability</th>\n",
       "      <th>prediction</th>\n",
       "    </tr>\n",
       "  </thead>\n",
       "  <tbody>\n",
       "    <tr>\n",
       "      <th>0</th>\n",
       "      <td>Andrew Mccall</td>\n",
       "      <td>37.0</td>\n",
       "      <td>9935.53</td>\n",
       "      <td>1</td>\n",
       "      <td>7.71</td>\n",
       "      <td>8.0</td>\n",
       "      <td>2011-08-29 18:37:54</td>\n",
       "      <td>38612 Johnny Stravenue Nataliebury, WI 15717-8316</td>\n",
       "      <td>King Ltd</td>\n",
       "      <td>[37.0, 9935.53, 7.71, 8.0]</td>\n",
       "      <td>[2.41832359387, -2.41832359387]</td>\n",
       "      <td>[0.918213939529, 0.0817860604711]</td>\n",
       "      <td>0.0</td>\n",
       "    </tr>\n",
       "    <tr>\n",
       "      <th>1</th>\n",
       "      <td>Michele Wright</td>\n",
       "      <td>23.0</td>\n",
       "      <td>7526.94</td>\n",
       "      <td>1</td>\n",
       "      <td>9.28</td>\n",
       "      <td>15.0</td>\n",
       "      <td>2013-07-22 18:19:54</td>\n",
       "      <td>21083 Nicole Junction Suite 332, Youngport, ME...</td>\n",
       "      <td>Cannon-Benson</td>\n",
       "      <td>[23.0, 7526.94, 9.28, 15.0]</td>\n",
       "      <td>[-5.99066587605, 5.99066587605]</td>\n",
       "      <td>[0.00249575310724, 0.997504246893]</td>\n",
       "      <td>1.0</td>\n",
       "    </tr>\n",
       "    <tr>\n",
       "      <th>2</th>\n",
       "      <td>Jeremy Chang</td>\n",
       "      <td>65.0</td>\n",
       "      <td>100.00</td>\n",
       "      <td>1</td>\n",
       "      <td>1.00</td>\n",
       "      <td>15.0</td>\n",
       "      <td>2006-12-11 07:48:13</td>\n",
       "      <td>085 Austin Views Lake Julialand, WY 63726-4298</td>\n",
       "      <td>Barron-Robertson</td>\n",
       "      <td>[65.0, 100.0, 1.0, 15.0]</td>\n",
       "      <td>[-3.43252821753, 3.43252821753]</td>\n",
       "      <td>[0.03129419877, 0.96870580123]</td>\n",
       "      <td>1.0</td>\n",
       "    </tr>\n",
       "    <tr>\n",
       "      <th>3</th>\n",
       "      <td>Megan Ferguson</td>\n",
       "      <td>32.0</td>\n",
       "      <td>6487.50</td>\n",
       "      <td>0</td>\n",
       "      <td>9.40</td>\n",
       "      <td>14.0</td>\n",
       "      <td>2016-10-28 05:32:13</td>\n",
       "      <td>922 Wright Branch North Cynthialand, NC 64721</td>\n",
       "      <td>Sexton-Golden</td>\n",
       "      <td>[32.0, 6487.5, 9.4, 14.0]</td>\n",
       "      <td>[-5.34296748644, 5.34296748644]</td>\n",
       "      <td>[0.00475890465963, 0.99524109534]</td>\n",
       "      <td>1.0</td>\n",
       "    </tr>\n",
       "    <tr>\n",
       "      <th>4</th>\n",
       "      <td>Taylor Young</td>\n",
       "      <td>32.0</td>\n",
       "      <td>13147.71</td>\n",
       "      <td>1</td>\n",
       "      <td>10.00</td>\n",
       "      <td>8.0</td>\n",
       "      <td>2012-03-20 00:36:46</td>\n",
       "      <td>Unit 0789 Box 0734 DPO AP 39702</td>\n",
       "      <td>Wood LLC</td>\n",
       "      <td>[32.0, 13147.71, 10.0, 8.0]</td>\n",
       "      <td>[1.28437160096, -1.28437160096]</td>\n",
       "      <td>[0.783193000738, 0.216806999262]</td>\n",
       "      <td>0.0</td>\n",
       "    </tr>\n",
       "    <tr>\n",
       "      <th>5</th>\n",
       "      <td>Jessica Drake</td>\n",
       "      <td>22.0</td>\n",
       "      <td>8445.26</td>\n",
       "      <td>1</td>\n",
       "      <td>3.46</td>\n",
       "      <td>14.0</td>\n",
       "      <td>2011-02-04 19:29:27</td>\n",
       "      <td>1148 Tina Stravenue Apt. 978 South Carlos TX 2...</td>\n",
       "      <td>Parks-Robbins</td>\n",
       "      <td>[22.0, 8445.26, 3.46, 14.0]</td>\n",
       "      <td>[-1.438520474, 1.438520474]</td>\n",
       "      <td>[0.191774566203, 0.808225433797]</td>\n",
       "      <td>1.0</td>\n",
       "    </tr>\n",
       "  </tbody>\n",
       "</table>\n",
       "</div>"
      ],
      "text/plain": [
       "            Names   Age  Total_Purchase  Account_Manager  Years  Num_Sites  \\\n",
       "0   Andrew Mccall  37.0         9935.53                1   7.71        8.0   \n",
       "1  Michele Wright  23.0         7526.94                1   9.28       15.0   \n",
       "2    Jeremy Chang  65.0          100.00                1   1.00       15.0   \n",
       "3  Megan Ferguson  32.0         6487.50                0   9.40       14.0   \n",
       "4    Taylor Young  32.0        13147.71                1  10.00        8.0   \n",
       "5   Jessica Drake  22.0         8445.26                1   3.46       14.0   \n",
       "\n",
       "         Onboard_date                                           Location  \\\n",
       "0 2011-08-29 18:37:54  38612 Johnny Stravenue Nataliebury, WI 15717-8316   \n",
       "1 2013-07-22 18:19:54  21083 Nicole Junction Suite 332, Youngport, ME...   \n",
       "2 2006-12-11 07:48:13     085 Austin Views Lake Julialand, WY 63726-4298   \n",
       "3 2016-10-28 05:32:13      922 Wright Branch North Cynthialand, NC 64721   \n",
       "4 2012-03-20 00:36:46                    Unit 0789 Box 0734 DPO AP 39702   \n",
       "5 2011-02-04 19:29:27  1148 Tina Stravenue Apt. 978 South Carlos TX 2...   \n",
       "\n",
       "            Company                     features  \\\n",
       "0          King Ltd   [37.0, 9935.53, 7.71, 8.0]   \n",
       "1     Cannon-Benson  [23.0, 7526.94, 9.28, 15.0]   \n",
       "2  Barron-Robertson     [65.0, 100.0, 1.0, 15.0]   \n",
       "3     Sexton-Golden    [32.0, 6487.5, 9.4, 14.0]   \n",
       "4          Wood LLC  [32.0, 13147.71, 10.0, 8.0]   \n",
       "5     Parks-Robbins  [22.0, 8445.26, 3.46, 14.0]   \n",
       "\n",
       "                     rawPrediction                         probability  \\\n",
       "0  [2.41832359387, -2.41832359387]   [0.918213939529, 0.0817860604711]   \n",
       "1  [-5.99066587605, 5.99066587605]  [0.00249575310724, 0.997504246893]   \n",
       "2  [-3.43252821753, 3.43252821753]      [0.03129419877, 0.96870580123]   \n",
       "3  [-5.34296748644, 5.34296748644]   [0.00475890465963, 0.99524109534]   \n",
       "4  [1.28437160096, -1.28437160096]    [0.783193000738, 0.216806999262]   \n",
       "5      [-1.438520474, 1.438520474]    [0.191774566203, 0.808225433797]   \n",
       "\n",
       "   prediction  \n",
       "0         0.0  \n",
       "1         1.0  \n",
       "2         1.0  \n",
       "3         1.0  \n",
       "4         0.0  \n",
       "5         1.0  "
      ]
     },
     "execution_count": 91,
     "metadata": {},
     "output_type": "execute_result"
    }
   ],
   "source": [
    "final_results.toPandas()"
   ]
  },
  {
   "cell_type": "markdown",
   "metadata": {
    "collapsed": true
   },
   "source": [
    "## Referencias\n",
    "http://www.dmae.upct.es/~mcruiz/Telem06/Teoria/arbol_decision.pdf\n",
    "https://spark.apache.org/docs/2.2.0/mllib-decision-tree.html"
   ]
  },
  {
   "cell_type": "code",
   "execution_count": null,
   "metadata": {
    "collapsed": true
   },
   "outputs": [],
   "source": []
  }
 ],
 "metadata": {
  "kernelspec": {
   "display_name": "Python 3",
   "language": "python",
   "name": "python3"
  },
  "language_info": {
   "codemirror_mode": {
    "name": "ipython",
    "version": 3
   },
   "file_extension": ".py",
   "mimetype": "text/x-python",
   "name": "python",
   "nbconvert_exporter": "python",
   "pygments_lexer": "ipython3",
   "version": "3.6.2"
  }
 },
 "nbformat": 4,
 "nbformat_minor": 2
}
